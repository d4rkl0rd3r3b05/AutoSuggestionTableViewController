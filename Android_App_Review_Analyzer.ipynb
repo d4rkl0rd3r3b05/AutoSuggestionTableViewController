{
  "nbformat": 4,
  "nbformat_minor": 0,
  "metadata": {
    "colab": {
      "provenance": [],
      "authorship_tag": "ABX9TyP8B22vvbHXCYshqXNiwEDJ",
      "include_colab_link": true
    },
    "kernelspec": {
      "name": "python3",
      "display_name": "Python 3"
    },
    "language_info": {
      "name": "python"
    }
  },
  "cells": [
    {
      "cell_type": "markdown",
      "metadata": {
        "id": "view-in-github",
        "colab_type": "text"
      },
      "source": [
        "<a href=\"https://colab.research.google.com/github/d4rkl0rd3r3b05/AutoSuggestionTableViewController/blob/master/Android_App_Review_Analyzer.ipynb\" target=\"_parent\"><img src=\"https://colab.research.google.com/assets/colab-badge.svg\" alt=\"Open In Colab\"/></a>"
      ]
    },
    {
      "cell_type": "code",
      "execution_count": 1,
      "metadata": {
        "colab": {
          "base_uri": "https://localhost:8080/"
        },
        "id": "_CX-T4btN1ok",
        "outputId": "f57dcc92-4326-4d56-96df-8129d2ededa3"
      },
      "outputs": [
        {
          "output_type": "stream",
          "name": "stdout",
          "text": [
            "\u001b[?25l     \u001b[90m━━━━━━━━━━━━━━━━━━━━━━━━━━━━━━━━━━━━━━━━\u001b[0m \u001b[32m0.0/50.2 kB\u001b[0m \u001b[31m?\u001b[0m eta \u001b[36m-:--:--\u001b[0m\r\u001b[2K     \u001b[90m━━━━━━━━━━━━━━━━━━━━━━━━━━━━━━━━━━━━━━━━\u001b[0m \u001b[32m50.2/50.2 kB\u001b[0m \u001b[31m2.0 MB/s\u001b[0m eta \u001b[36m0:00:00\u001b[0m\n",
            "\u001b[?25h"
          ]
        }
      ],
      "source": [
        "!pip install -q google-play-scraper"
      ]
    },
    {
      "cell_type": "code",
      "source": [
        "import matplotlib.pyplot as plt\n",
        "import numpy as np\n",
        "\n",
        "class BubbleChart:\n",
        "    def __init__(self, area, bubble_spacing=0):\n",
        "        \"\"\"\n",
        "        Setup for bubble collapse.\n",
        "\n",
        "        Parameters\n",
        "        ----------\n",
        "        area : array-like\n",
        "            Area of the bubbles.\n",
        "        bubble_spacing : float, default: 0\n",
        "            Minimal spacing between bubbles after collapsing.\n",
        "\n",
        "        Notes\n",
        "        -----\n",
        "        If \"area\" is sorted, the results might look weird.\n",
        "        \"\"\"\n",
        "        area = np.asarray(area)\n",
        "        r = np.sqrt(area / np.pi)\n",
        "\n",
        "        self.bubble_spacing = bubble_spacing\n",
        "        self.bubbles = np.ones((len(area), 4))\n",
        "        self.bubbles[:, 2] = r\n",
        "        self.bubbles[:, 3] = area\n",
        "        self.maxstep = 2 * self.bubbles[:, 2].max() + self.bubble_spacing\n",
        "        self.step_dist = self.maxstep / 2\n",
        "\n",
        "        # calculate initial grid layout for bubbles\n",
        "        length = np.ceil(np.sqrt(len(self.bubbles)))\n",
        "        grid = np.arange(length) * self.maxstep\n",
        "        gx, gy = np.meshgrid(grid, grid)\n",
        "        self.bubbles[:, 0] = gx.flatten()[:len(self.bubbles)]\n",
        "        self.bubbles[:, 1] = gy.flatten()[:len(self.bubbles)]\n",
        "\n",
        "        self.com = self.center_of_mass()\n",
        "\n",
        "    def center_of_mass(self):\n",
        "        return np.average(\n",
        "            self.bubbles[:, :2], axis=0, weights=self.bubbles[:, 3]\n",
        "        )\n",
        "\n",
        "    def center_distance(self, bubble, bubbles):\n",
        "        return np.hypot(bubble[0] - bubbles[:, 0],\n",
        "                        bubble[1] - bubbles[:, 1])\n",
        "\n",
        "    def outline_distance(self, bubble, bubbles):\n",
        "        center_distance = self.center_distance(bubble, bubbles)\n",
        "        return center_distance - bubble[2] - \\\n",
        "            bubbles[:, 2] - self.bubble_spacing\n",
        "\n",
        "    def check_collisions(self, bubble, bubbles):\n",
        "        distance = self.outline_distance(bubble, bubbles)\n",
        "        return len(distance[distance < 0])\n",
        "\n",
        "    def collides_with(self, bubble, bubbles):\n",
        "        distance = self.outline_distance(bubble, bubbles)\n",
        "        return np.argmin(distance, keepdims=True)\n",
        "\n",
        "    def collapse(self, n_iterations=50):\n",
        "        \"\"\"\n",
        "        Move bubbles to the center of mass.\n",
        "\n",
        "        Parameters\n",
        "        ----------\n",
        "        n_iterations : int, default: 50\n",
        "            Number of moves to perform.\n",
        "        \"\"\"\n",
        "        for _i in range(n_iterations):\n",
        "            moves = 0\n",
        "            for i in range(len(self.bubbles)):\n",
        "                rest_bub = np.delete(self.bubbles, i, 0)\n",
        "                # try to move directly towards the center of mass\n",
        "                # direction vector from bubble to the center of mass\n",
        "                dir_vec = self.com - self.bubbles[i, :2]\n",
        "\n",
        "                # shorten direction vector to have length of 1\n",
        "                dir_vec = dir_vec / np.sqrt(dir_vec.dot(dir_vec))\n",
        "\n",
        "                # calculate new bubble position\n",
        "                new_point = self.bubbles[i, :2] + dir_vec * self.step_dist\n",
        "                new_bubble = np.append(new_point, self.bubbles[i, 2:4])\n",
        "\n",
        "                # check whether new bubble collides with other bubbles\n",
        "                if not self.check_collisions(new_bubble, rest_bub):\n",
        "                    self.bubbles[i, :] = new_bubble\n",
        "                    self.com = self.center_of_mass()\n",
        "                    moves += 1\n",
        "                else:\n",
        "                    # try to move around a bubble that you collide with\n",
        "                    # find colliding bubble\n",
        "                    for colliding in self.collides_with(new_bubble, rest_bub):\n",
        "                        # calculate direction vector\n",
        "                        dir_vec = rest_bub[colliding, :2] - self.bubbles[i, :2]\n",
        "                        dir_vec = dir_vec / np.sqrt(dir_vec.dot(dir_vec))\n",
        "                        # calculate orthogonal vector\n",
        "                        orth = np.array([dir_vec[1], -dir_vec[0]])\n",
        "                        # test which direction to go\n",
        "                        new_point1 = (self.bubbles[i, :2] + orth *\n",
        "                                      self.step_dist)\n",
        "                        new_point2 = (self.bubbles[i, :2] - orth *\n",
        "                                      self.step_dist)\n",
        "                        dist1 = self.center_distance(\n",
        "                            self.com, np.array([new_point1]))\n",
        "                        dist2 = self.center_distance(\n",
        "                            self.com, np.array([new_point2]))\n",
        "                        new_point = new_point1 if dist1 < dist2 else new_point2\n",
        "                        new_bubble = np.append(new_point, self.bubbles[i, 2:4])\n",
        "                        if not self.check_collisions(new_bubble, rest_bub):\n",
        "                            self.bubbles[i, :] = new_bubble\n",
        "                            self.com = self.center_of_mass()\n",
        "\n",
        "            if moves / len(self.bubbles) < 0.1:\n",
        "                self.step_dist = self.step_dist / 2\n",
        "\n",
        "    def plot(self, ax, labels, colors):\n",
        "        \"\"\"\n",
        "        Draw the bubble plot.\n",
        "\n",
        "        Parameters\n",
        "        ----------\n",
        "        ax : matplotlib.axes.Axes\n",
        "        labels : list\n",
        "            Labels of the bubbles.\n",
        "        colors : list\n",
        "            Colors of the bubbles.\n",
        "        \"\"\"\n",
        "        for i in range(len(self.bubbles)):\n",
        "            circ = plt.Circle(\n",
        "                self.bubbles[i, :2], self.bubbles[i, 2], color=colors[i])\n",
        "            ax.add_patch(circ)\n",
        "            ax.text(*self.bubbles[i, :2], labels[i],\n",
        "                    horizontalalignment='center', verticalalignment='center')\n"
      ],
      "metadata": {
        "id": "T7opqPEji1vU"
      },
      "execution_count": 18,
      "outputs": []
    },
    {
      "cell_type": "markdown",
      "source": [
        "# 1️⃣ Fetch Reviews from Google Play Store 🛍️"
      ],
      "metadata": {
        "id": "MMRuFcsVOSD0"
      }
    },
    {
      "cell_type": "code",
      "source": [
        "from google_play_scraper import app, reviews\n",
        "\n",
        "# Fetch app details and reviews\n",
        "result, continuation_token = reviews(\n",
        "    'com.kfc.me',\n",
        "    lang='en',\n",
        "    country='us',\n",
        "    count=100  # Number of reviews to fetch\n",
        ")\n",
        "\n",
        "result[:3], len(result)\n"
      ],
      "metadata": {
        "colab": {
          "base_uri": "https://localhost:8080/"
        },
        "collapsed": true,
        "id": "IVVjd6-dOIE4",
        "outputId": "09ba0692-6281-47cd-81a5-98c6c08144a2"
      },
      "execution_count": 13,
      "outputs": [
        {
          "output_type": "execute_result",
          "data": {
            "text/plain": [
              "([{'reviewId': '3f0c2dd9-0c3f-42b0-8ab7-22259e739ffa',\n",
              "   'userName': 'Khalid Alderei',\n",
              "   'userImage': 'https://play-lh.googleusercontent.com/a-/ALV-UjXFnJaoeUNDLKdUK0fysCHeBq-RFIHQcuyWW9o-pSR0I2PO-aE',\n",
              "   'content': \"Hi, I ordered happy 53RD Eid Al Etihad offer ( Wed, Nov 27) and the food came to me not delicious and chicken were black I means overcook not fresh, it's very bad, what is this, are you joking with us?, I don't wanna say bad words to you all, I will delete the app N I will never order from KFC again, bye\",\n",
              "   'score': 1,\n",
              "   'thumbsUpCount': 0,\n",
              "   'reviewCreatedVersion': '9.15.1',\n",
              "   'at': datetime.datetime(2024, 11, 26, 23, 15, 35),\n",
              "   'replyContent': None,\n",
              "   'repliedAt': None,\n",
              "   'appVersion': '9.15.1'},\n",
              "  {'reviewId': 'efd6b7c4-246b-4399-871d-8b43f6cd3bb6',\n",
              "   'userName': 'ali asghar',\n",
              "   'userImage': 'https://play-lh.googleusercontent.com/a-/ALV-UjUFaw0BOwUKPXR3EJOh2nYvSIigrq-f4TUcsDPJNew2oVcuuKjr',\n",
              "   'content': 'Better than anything loved the app',\n",
              "   'score': 5,\n",
              "   'thumbsUpCount': 0,\n",
              "   'reviewCreatedVersion': '9.15.1',\n",
              "   'at': datetime.datetime(2024, 11, 26, 20, 50, 34),\n",
              "   'replyContent': None,\n",
              "   'repliedAt': None,\n",
              "   'appVersion': '9.15.1'},\n",
              "  {'reviewId': '2f900549-6edc-4940-9a2a-2de304aad615',\n",
              "   'userName': 'Imran Malik',\n",
              "   'userImage': 'https://play-lh.googleusercontent.com/a/ACg8ocIcdrJ9kk0I15C4sp4cknU4d-FoSnk1ElukzPBjD9xrfcSuQQ=mo',\n",
              "   'content': 'Good I have good experience I loved kfc.....',\n",
              "   'score': 5,\n",
              "   'thumbsUpCount': 0,\n",
              "   'reviewCreatedVersion': '9.14.1',\n",
              "   'at': datetime.datetime(2024, 11, 25, 19, 21, 29),\n",
              "   'replyContent': None,\n",
              "   'repliedAt': None,\n",
              "   'appVersion': '9.14.1'}],\n",
              " 100)"
            ]
          },
          "metadata": {},
          "execution_count": 13
        }
      ]
    },
    {
      "cell_type": "markdown",
      "source": [
        "#2️⃣ Analyze Sentiments with Hugging Face 🤖"
      ],
      "metadata": {
        "id": "dpQAi_5pTYcZ"
      }
    },
    {
      "cell_type": "code",
      "source": [
        "from transformers import pipeline\n",
        "\n",
        "# Initialize Hugging Face sentiment analysis pipeline\n",
        "sentiment_pipeline = pipeline(\"sentiment-analysis\", model=\"distilbert-base-uncased-finetuned-sst-2-english\")\n",
        "results = [sentiment_pipeline(review['content'])[0] for review in result]\n",
        "\n",
        "# Extract sentiment labels\n",
        "sentiments = [result['label'] for result in results]\n",
        "\n",
        "# Count sentiment categories\n",
        "sentiment_counts = Counter(sentiments)"
      ],
      "metadata": {
        "colab": {
          "base_uri": "https://localhost:8080/"
        },
        "collapsed": true,
        "id": "5GIpM2pXTZ-i",
        "outputId": "256206bd-ea6f-4817-9640-6e68c5e99143"
      },
      "execution_count": 96,
      "outputs": [
        {
          "output_type": "execute_result",
          "data": {
            "text/plain": [
              "[{'label': 'NEGATIVE', 'score': 0.9995076656341553},\n",
              " {'label': 'POSITIVE', 'score': 0.9992619156837463},\n",
              " {'label': 'POSITIVE', 'score': 0.9998681545257568},\n",
              " {'label': 'POSITIVE', 'score': 0.9989953637123108},\n",
              " {'label': 'NEGATIVE', 'score': 0.9894389510154724},\n",
              " {'label': 'POSITIVE', 'score': 0.9397526383399963},\n",
              " {'label': 'POSITIVE', 'score': 0.9998377561569214},\n",
              " {'label': 'POSITIVE', 'score': 0.9998364448547363},\n",
              " {'label': 'POSITIVE', 'score': 0.9998605251312256},\n",
              " {'label': 'POSITIVE', 'score': 0.9998552799224854},\n",
              " {'label': 'NEGATIVE', 'score': 0.9992908239364624},\n",
              " {'label': 'NEGATIVE', 'score': 0.6970566511154175},\n",
              " {'label': 'POSITIVE', 'score': 0.9998384714126587},\n",
              " {'label': 'POSITIVE', 'score': 0.998783528804779},\n",
              " {'label': 'POSITIVE', 'score': 0.9997842907905579},\n",
              " {'label': 'POSITIVE', 'score': 0.9998455047607422},\n",
              " {'label': 'POSITIVE', 'score': 0.9998576641082764},\n",
              " {'label': 'POSITIVE', 'score': 0.9998486042022705},\n",
              " {'label': 'NEGATIVE', 'score': 0.6970566511154175},\n",
              " {'label': 'POSITIVE', 'score': 0.7103734016418457},\n",
              " {'label': 'POSITIVE', 'score': 0.9308751821517944},\n",
              " {'label': 'POSITIVE', 'score': 0.9993181228637695},\n",
              " {'label': 'NEGATIVE', 'score': 0.9987567663192749},\n",
              " {'label': 'NEGATIVE', 'score': 0.9997283816337585},\n",
              " {'label': 'NEGATIVE', 'score': 0.9997003078460693},\n",
              " {'label': 'POSITIVE', 'score': 0.9998517036437988},\n",
              " {'label': 'POSITIVE', 'score': 0.9998216032981873},\n",
              " {'label': 'POSITIVE', 'score': 0.9998161196708679},\n",
              " {'label': 'POSITIVE', 'score': 0.9899179339408875},\n",
              " {'label': 'POSITIVE', 'score': 0.9996893405914307},\n",
              " {'label': 'POSITIVE', 'score': 0.9998499155044556},\n",
              " {'label': 'NEGATIVE', 'score': 0.6970566511154175},\n",
              " {'label': 'POSITIVE', 'score': 0.9998499155044556},\n",
              " {'label': 'NEGATIVE', 'score': 0.9988259673118591},\n",
              " {'label': 'POSITIVE', 'score': 0.998783528804779},\n",
              " {'label': 'NEGATIVE', 'score': 0.9986841082572937},\n",
              " {'label': 'POSITIVE', 'score': 0.9876216053962708},\n",
              " {'label': 'POSITIVE', 'score': 0.9982436895370483},\n",
              " {'label': 'NEGATIVE', 'score': 0.9976217150688171},\n",
              " {'label': 'POSITIVE', 'score': 0.9998161196708679},\n",
              " {'label': 'POSITIVE', 'score': 0.9976182579994202},\n",
              " {'label': 'POSITIVE', 'score': 0.9998520612716675},\n",
              " {'label': 'POSITIVE', 'score': 0.9998161196708679},\n",
              " {'label': 'POSITIVE', 'score': 0.9998161196708679},\n",
              " {'label': 'NEGATIVE', 'score': 0.8529213070869446},\n",
              " {'label': 'POSITIVE', 'score': 0.9998656511306763},\n",
              " {'label': 'POSITIVE', 'score': 0.9998552799224854},\n",
              " {'label': 'POSITIVE', 'score': 0.9998596906661987},\n",
              " {'label': 'POSITIVE', 'score': 0.9998499155044556},\n",
              " {'label': 'POSITIVE', 'score': 0.9998524188995361},\n",
              " {'label': 'NEGATIVE', 'score': 0.9997827410697937},\n",
              " {'label': 'POSITIVE', 'score': 0.9996259212493896},\n",
              " {'label': 'POSITIVE', 'score': 0.9968417882919312},\n",
              " {'label': 'POSITIVE', 'score': 0.9817137122154236},\n",
              " {'label': 'POSITIVE', 'score': 0.9614282846450806},\n",
              " {'label': 'NEGATIVE', 'score': 0.9998021721839905},\n",
              " {'label': 'POSITIVE', 'score': 0.9978965520858765},\n",
              " {'label': 'POSITIVE', 'score': 0.9998821020126343},\n",
              " {'label': 'POSITIVE', 'score': 0.9998067021369934},\n",
              " {'label': 'POSITIVE', 'score': 0.9997979998588562},\n",
              " {'label': 'NEGATIVE', 'score': 0.996184766292572},\n",
              " {'label': 'POSITIVE', 'score': 0.9998161196708679},\n",
              " {'label': 'POSITIVE', 'score': 0.9953081011772156},\n",
              " {'label': 'POSITIVE', 'score': 0.9998648166656494},\n",
              " {'label': 'NEGATIVE', 'score': 0.8956557512283325},\n",
              " {'label': 'POSITIVE', 'score': 0.9998816251754761},\n",
              " {'label': 'POSITIVE', 'score': 0.998088538646698},\n",
              " {'label': 'POSITIVE', 'score': 0.9997851252555847},\n",
              " {'label': 'POSITIVE', 'score': 0.9998650550842285},\n",
              " {'label': 'POSITIVE', 'score': 0.9998161196708679},\n",
              " {'label': 'POSITIVE', 'score': 0.9998711347579956},\n",
              " {'label': 'POSITIVE', 'score': 0.9998630285263062},\n",
              " {'label': 'NEGATIVE', 'score': 0.9988296627998352},\n",
              " {'label': 'POSITIVE', 'score': 0.9998170733451843},\n",
              " {'label': 'NEGATIVE', 'score': 0.9979738593101501},\n",
              " {'label': 'POSITIVE', 'score': 0.9998682737350464},\n",
              " {'label': 'POSITIVE', 'score': 0.9997941851615906},\n",
              " {'label': 'POSITIVE', 'score': 0.9998520612716675},\n",
              " {'label': 'POSITIVE', 'score': 0.9998161196708679},\n",
              " {'label': 'POSITIVE', 'score': 0.999862551689148},\n",
              " {'label': 'POSITIVE', 'score': 0.9998576641082764},\n",
              " {'label': 'POSITIVE', 'score': 0.9998576641082764},\n",
              " {'label': 'POSITIVE', 'score': 0.9998161196708679},\n",
              " {'label': 'POSITIVE', 'score': 0.9998549222946167},\n",
              " {'label': 'POSITIVE', 'score': 0.9994400143623352},\n",
              " {'label': 'POSITIVE', 'score': 0.9998576641082764},\n",
              " {'label': 'NEGATIVE', 'score': 0.9964404702186584},\n",
              " {'label': 'NEGATIVE', 'score': 0.999729573726654},\n",
              " {'label': 'POSITIVE', 'score': 0.999841570854187},\n",
              " {'label': 'NEGATIVE', 'score': 0.6970566511154175},\n",
              " {'label': 'POSITIVE', 'score': 0.9990455508232117},\n",
              " {'label': 'POSITIVE', 'score': 0.9998161196708679},\n",
              " {'label': 'POSITIVE', 'score': 0.9998161196708679},\n",
              " {'label': 'NEGATIVE', 'score': 0.8778632283210754},\n",
              " {'label': 'POSITIVE', 'score': 0.9998382329940796},\n",
              " {'label': 'POSITIVE', 'score': 0.9996916055679321},\n",
              " {'label': 'NEGATIVE', 'score': 0.6970566511154175},\n",
              " {'label': 'POSITIVE', 'score': 0.9998161196708679},\n",
              " {'label': 'POSITIVE', 'score': 0.9998161196708679},\n",
              " {'label': 'POSITIVE', 'score': 0.9998499155044556}]"
            ]
          },
          "metadata": {},
          "execution_count": 96
        }
      ]
    },
    {
      "cell_type": "markdown",
      "source": [
        "# Plot pie plot for sentiments"
      ],
      "metadata": {
        "id": "-U0ogYDH3mzK"
      }
    },
    {
      "cell_type": "code",
      "source": [
        "import matplotlib.pyplot as plt\n",
        "from collections import Counter\n",
        "\n",
        "# Count sentiment categories\n",
        "sentiment_counts = Counter(sentiments)\n",
        "\n",
        "# Data for the pie chart\n",
        "labels = sentiment_counts.keys()\n",
        "sizes = sentiment_counts.values()\n",
        "colors = ['#28a745', '#ffc107', '#dc3545']  # Colors for POSITIVE, NEUTRAL, and NEGATIVE\n",
        "explode = [0.1 if label == 'POSITIVE' else 0 for label in labels]  # Highlight POSITIVE section\n",
        "\n",
        "# Create the pie chart\n",
        "plt.figure(figsize=(8, 6))\n",
        "plt.pie(\n",
        "    sizes,\n",
        "    labels=labels,\n",
        "    autopct='%1.1f%%',\n",
        "    startangle=140,\n",
        "    colors=colors,\n",
        "    explode=explode,\n",
        "    shadow=True\n",
        ")\n",
        "\n",
        "# Add a title\n",
        "plt.title('Sentiment Distribution of Play Store Reviews')\n",
        "plt.show()"
      ],
      "metadata": {
        "colab": {
          "base_uri": "https://localhost:8080/",
          "height": 521
        },
        "id": "--YHRnmd3kvY",
        "outputId": "2b8613e0-023d-4831-f250-7b1ffc30d2ee"
      },
      "execution_count": 97,
      "outputs": [
        {
          "output_type": "display_data",
          "data": {
            "text/plain": [
              "<Figure size 800x600 with 1 Axes>"
            ],
            "image/png": "[encoded data removed]"
          },
          "metadata": {}
        }
      ]
    },
    {
      "cell_type": "markdown",
      "source": [
        "#3️⃣ Group Reviews by Themes 📂"
      ],
      "metadata": {
        "id": "ckCF0hPdTtSU"
      }
    },
    {
      "cell_type": "code",
      "source": [
        "from transformers import pipeline\n",
        "\n",
        "# Initialize the zero-shot classifier\n",
        "classifier = pipeline(\"zero-shot-classification\", model=\"facebook/bart-large-mnli\")\n",
        "\n",
        "# Define possible themes for classification\n",
        "themes = [\"Bug Report\", \"Feature Request\", \"Performance Issue\", \"UI/UX Improvement\", \"General Feedback\", \"Delivery Issue\", \"Food Quality\"]\n",
        "\n",
        "# Classify each review\n",
        "review_texts = [review['content'] for review in result]\n",
        "classified_reviews = [{\"text\": text, \"label\": classifier(text, themes)['labels'][0]} for text in review_texts]\n",
        "\n",
        "# Group reviews by themes\n",
        "grouped_reviews = {theme: [] for theme in themes}\n",
        "theme_counts = {theme: 0 for theme in themes}\n",
        "\n",
        "for review in classified_reviews:\n",
        "    grouped_reviews[review[\"label\"]].append(review[\"text\"])\n",
        "    theme_counts[review[\"label\"]] += 1\n",
        "\n",
        "\n",
        "print(grouped_reviews)\n"
      ],
      "metadata": {
        "colab": {
          "base_uri": "https://localhost:8080/"
        },
        "id": "W58r64YDTzEl",
        "outputId": "ce496f6d-083b-48a2-b64c-8a6f8868af4f"
      },
      "execution_count": 16,
      "outputs": [
        {
          "output_type": "stream",
          "name": "stdout",
          "text": [
            "{'Bug Report': ['KFC food caused severe food poisoning', 'Got my 5000+ loyalty points expiring today 15th and it is not even the 16th but you already removed and expired it. Was planning to redeem and order something else. Not even a good way to keep loyal customers. Might as well be loyal to others fast-food brands.'], 'Feature Request': ['Crazy food', \"As a regular KFC customer, I'm disappointed that redeeming the points, accumulated as a loyal customer, applies as a coupon on the app. Ideally, the item redeemed using points should be updated directly in the cart and customer should not have to select the redeemed item as a coupon again. I should be able to use my reward points and any other promo coupon as well rather than restricting customers to any one option.\", 'Fast delivery service'], 'Performance Issue': [\"I try to placed again and again but this app did not give me response I click submit but it doesn't work and doesn't placed my order . Plz help me\", \"Too bad Service oder was late food is cold rider is to rude rider nam is trek properly mention in the notes don't ring the bell he is giving bell I waste my money\", 'What is lighting pay in KFC ? Even this type of pay got failed, but the amount was deducted from the card. Refund me', 'error when sending feedback inside the apo, what is this?'], 'UI/UX Improvement': ['This app is so easy to use, save time and lots of offers and options to choose 🤩', 'Clear, smooth, easy', 'Very user friendly and easy to order', 'Convenient, no hassle. It makes you feel VIP if you select delivery and pay at the location.', 'Very convenient and understanding when placing order for change in items', 'Very convenient app!', 'Good experience through app'], 'General Feedback': ['Better than anything loved the app', 'very fast service', \"It's too good.\", 'Very good. Highly satisfied', 'Nice', '👎', 'Super', 'Good to use', 'Good 👍', 'Us full good', '👍😊', \"It's too easy and fresh.\", 'Gravy too sour', 'Perfect', 'Good', '100. are we still on for tomorrow and then', 'Good service', 'Nice🥰🥰🥰', 'Good service', 'Super', 'Innocent 💫 peace full NATURE 🥇 moon 🌝 coumanity taayyab', 'Good', 'Very good', 'Good', 'Good', 'Finger licking 😁', 'Nice', 'Excellent experience', 'Good service', 'Points are useless', 'Axha mahol aur good staff', 'Fab', 'Very bad 👎', 'Always best', 'Good', 'on time', 'Very good service', 'Gud', \"It's a totally wonderful\", 'Okay 👍', 'ok', 'Enjoy this deal with my friend', 'Good', 'Very fast.. nice', 'Great', 'love kfc', 'Awesome', 'Best', 'Very good', 'Good', 'Good 👍🏻❤', 'Excellent service', 'Good', 'Good 👍', 'So good', 'Delicious😋😋😋😋😋', 'Good', 'good', 'Болдоггүй', 'Good', 'Good', 'Good service'], 'Delivery Issue': ['KFC need extra money from their loyal customers, so they started to make cash by low order fee, already they are making lots of profit by delivery charges even if you are next to KFC building. 1st give food with quality, then think about profit. (Refrying yesterday chicken and selling it to morning 1st customers) Anyways,,, Un installing KFC from mobile and mind... Thanks for made me to quit buying KFC...', 'Super and late delivery', 'After order through app, cash deducted from credit card but now its 45 mins of waiting still msg showing still under pending confirmation', 'Online Order was the wrost. Making purchase from online and the crew from the shop was not checking order, making to wait for long time.', 'I want my money returned!!! When I tried to pay through my card on this app it said server error and to retry but when I tried again it charged me double the amount. When the food arrived I had to pay cash as well because somehow it went to cash on delivery. I even called the customer service twice and I got the same answer saying \"Online team will be in touch and you will get your money refunded by 5-7 days\". It has been a week and I have not been refunded nor has the online team followed up.', 'Good food. Juts takes much time on the delivery of food. Not all branches. But most of them take more time to prepare the food as well .'], 'Food Quality': [\"Hi, I ordered happy 53RD Eid Al Etihad offer ( Wed, Nov 27) and the food came to me not delicious and chicken were black I means overcook not fresh, it's very bad, what is this, are you joking with us?, I don't wanna say bad words to you all, I will delete the app N I will never order from KFC again, bye\", 'Good I have good experience I loved kfc.....', 'Delevery is on time and food is good 💯', 'It is so good to order any food😃', 'Ever the best when it comes to order my food 😋😋😋', \"2 days before I order through app, 30 pieces pack, order came from nearest my home(It's Al matajer - Sharjah - Near Sharjah central post office), Strip came it's very fresh and hot piece, but no Sault. Chicken spicy piece I ordered but came normal and without fresh pieces, this is really worst experience from KFC. Please consider to provide same quality from UAE all the shops. Mostly I'm directly buying from Kuwait street branch Sharjah. But order through app it's coming from nearest branch only\", 'They never disappointed us and the food is great 👍👍👍👍👍👍👍👍 They always bring delivery on time This is the best app for 🚚🚚🚚🚚🚚', 'quick delivery and nice food', \"Dear KFC your staff Ms.Cheery Nice for All customer's Nice food .....Thanks I'm very happy your staff\", 'Delicious and good service', 'Best food or deliverd', 'Good food', 'Yummy with best food love chicken', 'I order spicy 2strips they give me normal,,,,,,how I will be happymeal.,', \"I have always used KFC when I need quick delivery, it's the best quality food here.. I love the service too.\", 'Excellent fast food that my Indian Philippino Kids like it too so much']}\n"
          ]
        }
      ]
    },
    {
      "cell_type": "markdown",
      "source": [
        "#4️⃣ Visualize with a Bubble Chart 🫧"
      ],
      "metadata": {
        "id": "lQ5Rv_ESUdZh"
      }
    },
    {
      "cell_type": "code",
      "source": [
        "theme_counts = {key: len(value) for key, value in grouped_reviews.items()}\n",
        "import matplotlib.pyplot as plt\n",
        "import numpy as np\n",
        "\n",
        "\n",
        "color = ['#DE3163','#5A69AF', '#FF7F50', '#F9C784', '#FC944A', '#F24C00', '#579E65']\n",
        "bubble_chart = BubbleChart(area=list(theme_counts.values()),\n",
        "                           bubble_spacing=2)\n",
        "\n",
        "bubble_chart.collapse()\n",
        "\n",
        "fig, ax = plt.subplots(subplot_kw=dict(aspect=\"equal\"))\n",
        "bubble_chart.plot(\n",
        "    ax, list(theme_counts.keys()), color)\n",
        "ax.axis(\"off\")\n",
        "ax.relim()\n",
        "ax.autoscale_view()\n",
        "ax.set_title('Review Classification')\n",
        "\n",
        "plt.show()"
      ],
      "metadata": {
        "colab": {
          "base_uri": "https://localhost:8080/",
          "height": 428
        },
        "id": "e22R5lRyUhjs",
        "outputId": "0245e8ac-79d5-4979-cf58-479c0e4ec17d"
      },
      "execution_count": 82,
      "outputs": [
        {
          "output_type": "display_data",
          "data": {
            "text/plain": [
              "<Figure size 640x480 with 1 Axes>"
            ],
            "image/png": "[encoded data removed]"
          },
          "metadata": {}
        }
      ]
    },
    {
      "cell_type": "markdown",
      "source": [
        "# 5️⃣ Conduct Gap Analysis 📉"
      ],
      "metadata": {
        "id": "TeycObw3Un0A"
      }
    },
    {
      "cell_type": "code",
      "source": [
        "from collections import Counter\n",
        "\n",
        "# Gap analysis: word frequency in negative reviews\n",
        "negative_reviews = [review['content'] for review, sentiment in zip(result, sentiments) if sentiment['label'] == 'NEGATIVE']\n",
        "word_counts = Counter(\" \".join(negative_reviews).split())\n",
        "common_issues = word_counts.most_common(10)\n",
        "\n",
        "print(\"Top Issues:\", common_issues)\n"
      ],
      "metadata": {
        "colab": {
          "base_uri": "https://localhost:8080/"
        },
        "id": "bedMaH3XUptC",
        "outputId": "aaa3307d-603c-4746-f3f0-585a53e4403a"
      },
      "execution_count": 7,
      "outputs": [
        {
          "output_type": "stream",
          "name": "stdout",
          "text": [
            "Top Issues: [('the', 24), ('to', 21), ('I', 18), ('and', 18), ('from', 12), ('is', 9), ('order', 8), ('but', 8), ('food', 7), ('not', 7)]\n"
          ]
        }
      ]
    }
  ]
}